{
 "cells": [
  {
   "cell_type": "code",
   "execution_count": 2,
   "metadata": {},
   "outputs": [
    {
     "name": "stdout",
     "output_type": "stream",
     "text": [
      "awolad\n"
     ]
    }
   ],
   "source": [
    "print(\"awolad\")"
   ]
  },
  {
   "cell_type": "code",
   "execution_count": 3,
   "metadata": {},
   "outputs": [],
   "source": [
    "import tensorflow as tf"
   ]
  },
  {
   "cell_type": "code",
   "execution_count": 6,
   "metadata": {},
   "outputs": [
    {
     "name": "stdout",
     "output_type": "stream",
     "text": [
      "tf.Tensor(4, shape=(), dtype=int32)\n"
     ]
    }
   ],
   "source": [
    "tesor_zero_d = tf.constant(4)\n",
    "print(tesor_zero_d)"
   ]
  },
  {
   "cell_type": "code",
   "execution_count": 7,
   "metadata": {},
   "outputs": [
    {
     "name": "stdout",
     "output_type": "stream",
     "text": [
      "tf.Tensor([1 2 3 4], shape=(4,), dtype=int32)\n"
     ]
    }
   ],
   "source": [
    "tensor_one_d = tf.constant([1, 2, 3, 4])\n",
    "print(tensor_one_d)"
   ]
  },
  {
   "cell_type": "code",
   "execution_count": 10,
   "metadata": {},
   "outputs": [
    {
     "name": "stdout",
     "output_type": "stream",
     "text": [
      "tf.Tensor(\n",
      "[[1 2]\n",
      " [3 4]\n",
      " [5 6]], shape=(3, 2), dtype=int32)\n"
     ]
    }
   ],
   "source": [
    "tensor_two_d = tf.constant([\n",
    "  [1, 2],\n",
    "  [3, 4],\n",
    "  [5, 6]\n",
    "  ])\n",
    "print(tensor_two_d)\n",
    "#Shape: (3, 2) indicates that the tensor has 3 rows and 2 columns."
   ]
  },
  {
   "cell_type": "code",
   "execution_count": 17,
   "metadata": {},
   "outputs": [
    {
     "name": "stdout",
     "output_type": "stream",
     "text": [
      "tf.Tensor(\n",
      "[[[ 1  2]\n",
      "  [ 3  4]\n",
      "  [ 5  6]]\n",
      "\n",
      " [[ 7  8]\n",
      "  [ 9 10]\n",
      "  [11 12]]\n",
      "\n",
      " [[13 14]\n",
      "  [15 16]\n",
      "  [17 18]]\n",
      "\n",
      " [[19 20]\n",
      "  [21 22]\n",
      "  [23  0]]], shape=(4, 3, 2), dtype=int32)\n",
      "tf.Tensor(\n",
      "[[[ True  True]\n",
      "  [ True  True]\n",
      "  [ True  True]]\n",
      "\n",
      " [[ True  True]\n",
      "  [ True  True]\n",
      "  [ True  True]]\n",
      "\n",
      " [[ True  True]\n",
      "  [ True  True]\n",
      "  [ True  True]]\n",
      "\n",
      " [[ True  True]\n",
      "  [ True  True]\n",
      "  [ True False]]], shape=(4, 3, 2), dtype=bool)\n"
     ]
    }
   ],
   "source": [
    "tensor_three_d = tf.constant([\n",
    "  [\n",
    "    [1, 2],\n",
    "    [3, 4],\n",
    "    [5, 6]\n",
    "    ],\n",
    "  [\n",
    "    [7, 8],\n",
    "    [9, 10],\n",
    "    [11, 12]\n",
    "],\n",
    "  [\n",
    "    [13, 14],\n",
    "    [15, 16],\n",
    "    [17, 18]\n",
    "  ],\n",
    "  [\n",
    "    [19, 20],\n",
    "    [21, 22],\n",
    "    [23, 0]\n",
    "  ]\n",
    "  ])\n",
    "casted_tensor = tf.cast(tensor_three_d, tf.bool)\n",
    "print(tensor_three_d)\n",
    "print(casted_tensor)"
   ]
  },
  {
   "cell_type": "code",
   "execution_count": 18,
   "metadata": {},
   "outputs": [
    {
     "name": "stdout",
     "output_type": "stream",
     "text": [
      "tf.Tensor(b'Hello, World!', shape=(), dtype=string)\n"
     ]
    }
   ],
   "source": [
    "tensor_string = tf.constant(\"Hello, World!\")\n",
    "print(tensor_string)"
   ]
  },
  {
   "cell_type": "code",
   "execution_count": 19,
   "metadata": {},
   "outputs": [
    {
     "name": "stdout",
     "output_type": "stream",
     "text": [
      "tf.Tensor([b'Hello' b'World' b'!'], shape=(3,), dtype=string)\n"
     ]
    }
   ],
   "source": [
    "tensor_one_d_string = tf.constant([\"Hello\", \"World\", \"!\"])\n",
    "print(tensor_one_d_string)"
   ]
  },
  {
   "cell_type": "code",
   "execution_count": 20,
   "metadata": {},
   "outputs": [],
   "source": [
    "import numpy as np"
   ]
  },
  {
   "cell_type": "code",
   "execution_count": 21,
   "metadata": {},
   "outputs": [
    {
     "name": "stdout",
     "output_type": "stream",
     "text": [
      "[1 2 3 4]\n"
     ]
    }
   ],
   "source": [
    "np_array = np.array([1, 2, 3, 4])\n",
    "print(np_array)"
   ]
  },
  {
   "cell_type": "code",
   "execution_count": 22,
   "metadata": {},
   "outputs": [
    {
     "name": "stdout",
     "output_type": "stream",
     "text": [
      "tf.Tensor([1 2 3 4], shape=(4,), dtype=int32)\n"
     ]
    }
   ],
   "source": [
    "convert_tensor = tf.convert_to_tensor(np_array)\n",
    "print(convert_tensor)"
   ]
  },
  {
   "cell_type": "code",
   "execution_count": 23,
   "metadata": {},
   "outputs": [
    {
     "name": "stdout",
     "output_type": "stream",
     "text": [
      "tf.Tensor(\n",
      "[[1. 0. 0.]\n",
      " [0. 1. 0.]\n",
      " [0. 0. 1.]], shape=(3, 3), dtype=float32)\n"
     ]
    }
   ],
   "source": [
    "eye_tensor = tf.eye(3)\n",
    "print(eye_tensor)"
   ]
  },
  {
   "cell_type": "code",
   "execution_count": 25,
   "metadata": {},
   "outputs": [
    {
     "name": "stdout",
     "output_type": "stream",
     "text": [
      "tf.Tensor(\n",
      "[[3. 0. 0.]\n",
      " [0. 3. 0.]\n",
      " [0. 0. 3.]], shape=(3, 3), dtype=float32)\n"
     ]
    }
   ],
   "source": [
    "eye_tensor = tf.eye(\n",
    "  num_rows=3,\n",
    "  num_columns=None,\n",
    "  batch_shape=None,\n",
    "  dtype=tf.float32,\n",
    "  name=None\n",
    ")\n",
    "print(3*eye_tensor)"
   ]
  },
  {
   "cell_type": "code",
   "execution_count": 29,
   "metadata": {},
   "outputs": [
    {
     "name": "stdout",
     "output_type": "stream",
     "text": [
      "tf.Tensor(\n",
      "[[[[3. 0. 0.]\n",
      "   [0. 3. 0.]\n",
      "   [0. 0. 3.]]\n",
      "\n",
      "  [[3. 0. 0.]\n",
      "   [0. 3. 0.]\n",
      "   [0. 0. 3.]]]\n",
      "\n",
      "\n",
      " [[[3. 0. 0.]\n",
      "   [0. 3. 0.]\n",
      "   [0. 0. 3.]]\n",
      "\n",
      "  [[3. 0. 0.]\n",
      "   [0. 3. 0.]\n",
      "   [0. 0. 3.]]]], shape=(2, 2, 3, 3), dtype=float32)\n"
     ]
    }
   ],
   "source": [
    "eye_tensor = tf.eye(\n",
    "  num_rows=3,\n",
    "  num_columns=None,\n",
    "  batch_shape=[2,2],\n",
    "  dtype=tf.float32,\n",
    "  name=None\n",
    ")\n",
    "print(3*eye_tensor)"
   ]
  },
  {
   "cell_type": "code",
   "execution_count": null,
   "metadata": {},
   "outputs": [],
   "source": []
  }
 ],
 "metadata": {
  "kernelspec": {
   "display_name": "myenv",
   "language": "python",
   "name": "python3"
  },
  "language_info": {
   "codemirror_mode": {
    "name": "ipython",
    "version": 3
   },
   "file_extension": ".py",
   "mimetype": "text/x-python",
   "name": "python",
   "nbconvert_exporter": "python",
   "pygments_lexer": "ipython3",
   "version": "3.12.3"
  }
 },
 "nbformat": 4,
 "nbformat_minor": 2
}
